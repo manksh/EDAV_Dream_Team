{
 "cells": [
  {
   "cell_type": "code",
   "execution_count": 1,
   "metadata": {},
   "outputs": [],
   "source": [
    "import pandas as pd"
   ]
  },
  {
   "cell_type": "code",
   "execution_count": 11,
   "metadata": {},
   "outputs": [],
   "source": [
    "import matplotlib.pyplot as plt"
   ]
  },
  {
   "cell_type": "code",
   "execution_count": 16,
   "metadata": {},
   "outputs": [],
   "source": [
    "% matplotlib inline"
   ]
  },
  {
   "cell_type": "markdown",
   "metadata": {},
   "source": [
    "# Load Data"
   ]
  },
  {
   "cell_type": "code",
   "execution_count": 104,
   "metadata": {},
   "outputs": [],
   "source": [
    "df = pd.read_csv('/Users/mankshgupta/Desktop/EDAV_Dream_Team-master/data/billboard-spotify.csv')"
   ]
  },
  {
   "cell_type": "markdown",
   "metadata": {},
   "source": [
    "# Explicit Music over time"
   ]
  },
  {
   "cell_type": "code",
   "execution_count": 64,
   "metadata": {},
   "outputs": [],
   "source": [
    "explicit = df.groupby('year')['explicit'].sum()"
   ]
  },
  {
   "cell_type": "code",
   "execution_count": 65,
   "metadata": {},
   "outputs": [
    {
     "data": {
      "text/plain": [
       "[<matplotlib.lines.Line2D at 0x11e78c668>]"
      ]
     },
     "execution_count": 65,
     "metadata": {},
     "output_type": "execute_result"
    },
    {
     "data": {
      "image/png": "[encoded data removed]",
      "text/plain": [
       "<matplotlib.figure.Figure at 0x11e89f438>"
      ]
     },
     "metadata": {},
     "output_type": "display_data"
    }
   ],
   "source": [
    "plt.plot(explicit)"
   ]
  },
  {
   "cell_type": "markdown",
   "metadata": {},
   "source": [
    "# Artist Racial Diversity"
   ]
  },
  {
   "cell_type": "code",
   "execution_count": 44,
   "metadata": {},
   "outputs": [],
   "source": [
    "top_artists = df.groupby('rank').get_group(1)[['year','artist']]"
   ]
  },
  {
   "cell_type": "code",
   "execution_count": 46,
   "metadata": {},
   "outputs": [],
   "source": [
    "top_artists2 = df.groupby('rank').get_group(2)[['year','artist']]"
   ]
  },
  {
   "cell_type": "code",
   "execution_count": 48,
   "metadata": {},
   "outputs": [],
   "source": [
    "top_artists2.columns = ['year','artist2']"
   ]
  },
  {
   "cell_type": "code",
   "execution_count": 54,
   "metadata": {},
   "outputs": [],
   "source": [
    "top2 = top_artists.join(top_artists2.set_index('year'), on='year')"
   ]
  },
  {
   "cell_type": "code",
   "execution_count": 66,
   "metadata": {},
   "outputs": [
    {
     "data": {
      "text/html": [
       "<div>\n",
       "<style scoped>\n",
       "    .dataframe tbody tr th:only-of-type {\n",
       "        vertical-align: middle;\n",
       "    }\n",
       "\n",
       "    .dataframe tbody tr th {\n",
       "        vertical-align: top;\n",
       "    }\n",
       "\n",
       "    .dataframe thead th {\n",
       "        text-align: right;\n",
       "    }\n",
       "</style>\n",
       "<table border=\"1\" class=\"dataframe\">\n",
       "  <thead>\n",
       "    <tr style=\"text-align: right;\">\n",
       "      <th></th>\n",
       "      <th>year</th>\n",
       "      <th>artist</th>\n",
       "      <th>artist2</th>\n",
       "    </tr>\n",
       "  </thead>\n",
       "  <tbody>\n",
       "    <tr>\n",
       "      <th>0</th>\n",
       "      <td>1965</td>\n",
       "      <td>sam the sham and the pharaohs</td>\n",
       "      <td>four tops</td>\n",
       "    </tr>\n",
       "    <tr>\n",
       "      <th>100</th>\n",
       "      <td>1966</td>\n",
       "      <td>ssgt barry sadler</td>\n",
       "      <td>the association</td>\n",
       "    </tr>\n",
       "    <tr>\n",
       "      <th>200</th>\n",
       "      <td>1967</td>\n",
       "      <td>lulu</td>\n",
       "      <td>the box tops</td>\n",
       "    </tr>\n",
       "    <tr>\n",
       "      <th>300</th>\n",
       "      <td>1968</td>\n",
       "      <td>the beatles</td>\n",
       "      <td>paul mauriat</td>\n",
       "    </tr>\n",
       "    <tr>\n",
       "      <th>400</th>\n",
       "      <td>1969</td>\n",
       "      <td>the archies</td>\n",
       "      <td>the 5th dimension</td>\n",
       "    </tr>\n",
       "  </tbody>\n",
       "</table>\n",
       "</div>"
      ],
      "text/plain": [
       "     year                         artist            artist2\n",
       "0    1965  sam the sham and the pharaohs          four tops\n",
       "100  1966              ssgt barry sadler    the association\n",
       "200  1967                           lulu       the box tops\n",
       "300  1968                    the beatles       paul mauriat\n",
       "400  1969                    the archies  the 5th dimension"
      ]
     },
     "execution_count": 66,
     "metadata": {},
     "output_type": "execute_result"
    }
   ],
   "source": [
    "top2.head()"
   ]
  },
  {
   "cell_type": "markdown",
   "metadata": {},
   "source": [
    "# Time signature analysis"
   ]
  },
  {
   "cell_type": "code",
   "execution_count": 105,
   "metadata": {},
   "outputs": [
    {
     "data": {
      "text/html": [
       "<div>\n",
       "<style scoped>\n",
       "    .dataframe tbody tr th:only-of-type {\n",
       "        vertical-align: middle;\n",
       "    }\n",
       "\n",
       "    .dataframe tbody tr th {\n",
       "        vertical-align: top;\n",
       "    }\n",
       "\n",
       "    .dataframe thead th {\n",
       "        text-align: right;\n",
       "    }\n",
       "</style>\n",
       "<table border=\"1\" class=\"dataframe\">\n",
       "  <thead>\n",
       "    <tr style=\"text-align: right;\">\n",
       "      <th></th>\n",
       "      <th>rank</th>\n",
       "      <th>song</th>\n",
       "      <th>artist</th>\n",
       "      <th>year</th>\n",
       "      <th>lyrics</th>\n",
       "      <th>acousticness</th>\n",
       "      <th>danceability</th>\n",
       "      <th>duration_ms</th>\n",
       "      <th>energy</th>\n",
       "      <th>explicit</th>\n",
       "      <th>...</th>\n",
       "      <th>mode</th>\n",
       "      <th>popularity</th>\n",
       "      <th>release_date</th>\n",
       "      <th>speechiness</th>\n",
       "      <th>spotify_album_name</th>\n",
       "      <th>spotify_artist</th>\n",
       "      <th>spotify_name</th>\n",
       "      <th>tempo</th>\n",
       "      <th>time_signature</th>\n",
       "      <th>valence</th>\n",
       "    </tr>\n",
       "  </thead>\n",
       "  <tbody>\n",
       "    <tr>\n",
       "      <th>0</th>\n",
       "      <td>1</td>\n",
       "      <td>wooly bully</td>\n",
       "      <td>sam the sham and the pharaohs</td>\n",
       "      <td>1965</td>\n",
       "      <td>sam the sham miscellaneous wooly bully wooly b...</td>\n",
       "      <td>0.7130</td>\n",
       "      <td>0.582</td>\n",
       "      <td>140867.0</td>\n",
       "      <td>0.575</td>\n",
       "      <td>0.0</td>\n",
       "      <td>...</td>\n",
       "      <td>1.0</td>\n",
       "      <td>51.0</td>\n",
       "      <td>1987-08-04</td>\n",
       "      <td>0.0529</td>\n",
       "      <td>Full Metal Jacket (Original Motion Picture Sou...</td>\n",
       "      <td>Sam The Sham &amp; The Pharaohs</td>\n",
       "      <td>Wooly Bully</td>\n",
       "      <td>140.601</td>\n",
       "      <td>4.0</td>\n",
       "      <td>0.558</td>\n",
       "    </tr>\n",
       "    <tr>\n",
       "      <th>1</th>\n",
       "      <td>2</td>\n",
       "      <td>i cant help myself sugar pie honey bunch</td>\n",
       "      <td>four tops</td>\n",
       "      <td>1965</td>\n",
       "      <td>sugar pie honey bunch you know that i love yo...</td>\n",
       "      <td>0.2040</td>\n",
       "      <td>0.686</td>\n",
       "      <td>163680.0</td>\n",
       "      <td>0.714</td>\n",
       "      <td>0.0</td>\n",
       "      <td>...</td>\n",
       "      <td>1.0</td>\n",
       "      <td>63.0</td>\n",
       "      <td>2008-01-01</td>\n",
       "      <td>0.0287</td>\n",
       "      <td>The Definitive Collection</td>\n",
       "      <td>Four Tops</td>\n",
       "      <td>I Can't Help Myself (Sugar Pie, Honey Bunch)</td>\n",
       "      <td>126.736</td>\n",
       "      <td>4.0</td>\n",
       "      <td>0.964</td>\n",
       "    </tr>\n",
       "    <tr>\n",
       "      <th>2</th>\n",
       "      <td>3</td>\n",
       "      <td>i cant get no satisfaction</td>\n",
       "      <td>the rolling stones</td>\n",
       "      <td>1965</td>\n",
       "      <td></td>\n",
       "      <td>0.0348</td>\n",
       "      <td>0.725</td>\n",
       "      <td>222813.0</td>\n",
       "      <td>0.853</td>\n",
       "      <td>0.0</td>\n",
       "      <td>...</td>\n",
       "      <td>1.0</td>\n",
       "      <td>68.0</td>\n",
       "      <td>1965-07-30</td>\n",
       "      <td>0.0353</td>\n",
       "      <td>Out Of Our Heads (Remastered)</td>\n",
       "      <td>The Rolling Stones</td>\n",
       "      <td>(I Can't Get No) Satisfaction - Mono Version /...</td>\n",
       "      <td>136.282</td>\n",
       "      <td>4.0</td>\n",
       "      <td>0.904</td>\n",
       "    </tr>\n",
       "    <tr>\n",
       "      <th>3</th>\n",
       "      <td>4</td>\n",
       "      <td>you were on my mind</td>\n",
       "      <td>we five</td>\n",
       "      <td>1965</td>\n",
       "      <td>when i woke up this morning you were on my mi...</td>\n",
       "      <td>0.4850</td>\n",
       "      <td>0.510</td>\n",
       "      <td>155960.0</td>\n",
       "      <td>0.565</td>\n",
       "      <td>0.0</td>\n",
       "      <td>...</td>\n",
       "      <td>0.0</td>\n",
       "      <td>35.0</td>\n",
       "      <td>2010-01-01</td>\n",
       "      <td>0.0500</td>\n",
       "      <td>You Were On My Mind</td>\n",
       "      <td>We Five</td>\n",
       "      <td>You Were On My Mind</td>\n",
       "      <td>143.381</td>\n",
       "      <td>4.0</td>\n",
       "      <td>0.700</td>\n",
       "    </tr>\n",
       "    <tr>\n",
       "      <th>4</th>\n",
       "      <td>5</td>\n",
       "      <td>youve lost that lovin feelin</td>\n",
       "      <td>the righteous brothers</td>\n",
       "      <td>1965</td>\n",
       "      <td>you never close your eyes anymore when i kiss...</td>\n",
       "      <td>0.5040</td>\n",
       "      <td>0.390</td>\n",
       "      <td>225227.0</td>\n",
       "      <td>0.309</td>\n",
       "      <td>0.0</td>\n",
       "      <td>...</td>\n",
       "      <td>1.0</td>\n",
       "      <td>57.0</td>\n",
       "      <td>1990</td>\n",
       "      <td>0.0265</td>\n",
       "      <td>The Very Best Of The Righteous Brothers - Unch...</td>\n",
       "      <td>The Righteous Brothers</td>\n",
       "      <td>You've Lost That Lovin' Feelin'</td>\n",
       "      <td>94.444</td>\n",
       "      <td>4.0</td>\n",
       "      <td>0.459</td>\n",
       "    </tr>\n",
       "  </tbody>\n",
       "</table>\n",
       "<p>5 rows × 24 columns</p>\n",
       "</div>"
      ],
      "text/plain": [
       "   rank                                      song  \\\n",
       "0     1                               wooly bully   \n",
       "1     2  i cant help myself sugar pie honey bunch   \n",
       "2     3                i cant get no satisfaction   \n",
       "3     4                       you were on my mind   \n",
       "4     5              youve lost that lovin feelin   \n",
       "\n",
       "                          artist  year  \\\n",
       "0  sam the sham and the pharaohs  1965   \n",
       "1                      four tops  1965   \n",
       "2             the rolling stones  1965   \n",
       "3                        we five  1965   \n",
       "4         the righteous brothers  1965   \n",
       "\n",
       "                                              lyrics  acousticness  \\\n",
       "0  sam the sham miscellaneous wooly bully wooly b...        0.7130   \n",
       "1   sugar pie honey bunch you know that i love yo...        0.2040   \n",
       "2                                                           0.0348   \n",
       "3   when i woke up this morning you were on my mi...        0.4850   \n",
       "4   you never close your eyes anymore when i kiss...        0.5040   \n",
       "\n",
       "   danceability  duration_ms  energy  explicit   ...    mode  popularity  \\\n",
       "0         0.582     140867.0   0.575       0.0   ...     1.0        51.0   \n",
       "1         0.686     163680.0   0.714       0.0   ...     1.0        63.0   \n",
       "2         0.725     222813.0   0.853       0.0   ...     1.0        68.0   \n",
       "3         0.510     155960.0   0.565       0.0   ...     0.0        35.0   \n",
       "4         0.390     225227.0   0.309       0.0   ...     1.0        57.0   \n",
       "\n",
       "   release_date  speechiness  \\\n",
       "0    1987-08-04       0.0529   \n",
       "1    2008-01-01       0.0287   \n",
       "2    1965-07-30       0.0353   \n",
       "3    2010-01-01       0.0500   \n",
       "4          1990       0.0265   \n",
       "\n",
       "                                  spotify_album_name  \\\n",
       "0  Full Metal Jacket (Original Motion Picture Sou...   \n",
       "1                          The Definitive Collection   \n",
       "2                      Out Of Our Heads (Remastered)   \n",
       "3                                You Were On My Mind   \n",
       "4  The Very Best Of The Righteous Brothers - Unch...   \n",
       "\n",
       "                spotify_artist  \\\n",
       "0  Sam The Sham & The Pharaohs   \n",
       "1                    Four Tops   \n",
       "2           The Rolling Stones   \n",
       "3                      We Five   \n",
       "4       The Righteous Brothers   \n",
       "\n",
       "                                        spotify_name    tempo time_signature  \\\n",
       "0                                        Wooly Bully  140.601            4.0   \n",
       "1       I Can't Help Myself (Sugar Pie, Honey Bunch)  126.736            4.0   \n",
       "2  (I Can't Get No) Satisfaction - Mono Version /...  136.282            4.0   \n",
       "3                                You Were On My Mind  143.381            4.0   \n",
       "4                    You've Lost That Lovin' Feelin'   94.444            4.0   \n",
       "\n",
       "  valence  \n",
       "0   0.558  \n",
       "1   0.964  \n",
       "2   0.904  \n",
       "3   0.700  \n",
       "4   0.459  \n",
       "\n",
       "[5 rows x 24 columns]"
      ]
     },
     "execution_count": 105,
     "metadata": {},
     "output_type": "execute_result"
    }
   ],
   "source": [
    "df.head()"
   ]
  },
  {
   "cell_type": "code",
   "execution_count": 77,
   "metadata": {},
   "outputs": [],
   "source": [
    "dftree = df.loc[:, 'acousticness':'speechiness']"
   ]
  },
  {
   "cell_type": "code",
   "execution_count": 102,
   "metadata": {},
   "outputs": [
    {
     "data": {
      "text/html": [
       "<div>\n",
       "<style scoped>\n",
       "    .dataframe tbody tr th:only-of-type {\n",
       "        vertical-align: middle;\n",
       "    }\n",
       "\n",
       "    .dataframe tbody tr th {\n",
       "        vertical-align: top;\n",
       "    }\n",
       "\n",
       "    .dataframe thead th {\n",
       "        text-align: right;\n",
       "    }\n",
       "</style>\n",
       "<table border=\"1\" class=\"dataframe\">\n",
       "  <thead>\n",
       "    <tr style=\"text-align: right;\">\n",
       "      <th></th>\n",
       "      <th>acousticness</th>\n",
       "      <th>danceability</th>\n",
       "      <th>duration_ms</th>\n",
       "      <th>energy</th>\n",
       "      <th>explicit</th>\n",
       "      <th>instrumentalness</th>\n",
       "      <th>key</th>\n",
       "      <th>liveness</th>\n",
       "      <th>loudness</th>\n",
       "      <th>mode</th>\n",
       "      <th>popularity</th>\n",
       "      <th>speechiness</th>\n",
       "    </tr>\n",
       "  </thead>\n",
       "  <tbody>\n",
       "    <tr>\n",
       "      <th>0</th>\n",
       "      <td>0.7130</td>\n",
       "      <td>0.582</td>\n",
       "      <td>140867.0</td>\n",
       "      <td>0.575</td>\n",
       "      <td>0.0</td>\n",
       "      <td>0.000004</td>\n",
       "      <td>7.0</td>\n",
       "      <td>0.1510</td>\n",
       "      <td>-11.890</td>\n",
       "      <td>1.0</td>\n",
       "      <td>51.0</td>\n",
       "      <td>0.0529</td>\n",
       "    </tr>\n",
       "    <tr>\n",
       "      <th>1</th>\n",
       "      <td>0.2040</td>\n",
       "      <td>0.686</td>\n",
       "      <td>163680.0</td>\n",
       "      <td>0.714</td>\n",
       "      <td>0.0</td>\n",
       "      <td>0.000000</td>\n",
       "      <td>0.0</td>\n",
       "      <td>0.0592</td>\n",
       "      <td>-4.809</td>\n",
       "      <td>1.0</td>\n",
       "      <td>63.0</td>\n",
       "      <td>0.0287</td>\n",
       "    </tr>\n",
       "    <tr>\n",
       "      <th>2</th>\n",
       "      <td>0.0348</td>\n",
       "      <td>0.725</td>\n",
       "      <td>222813.0</td>\n",
       "      <td>0.853</td>\n",
       "      <td>0.0</td>\n",
       "      <td>0.127000</td>\n",
       "      <td>2.0</td>\n",
       "      <td>0.1960</td>\n",
       "      <td>-7.842</td>\n",
       "      <td>1.0</td>\n",
       "      <td>68.0</td>\n",
       "      <td>0.0353</td>\n",
       "    </tr>\n",
       "    <tr>\n",
       "      <th>3</th>\n",
       "      <td>0.4850</td>\n",
       "      <td>0.510</td>\n",
       "      <td>155960.0</td>\n",
       "      <td>0.565</td>\n",
       "      <td>0.0</td>\n",
       "      <td>0.000000</td>\n",
       "      <td>1.0</td>\n",
       "      <td>0.0476</td>\n",
       "      <td>-8.105</td>\n",
       "      <td>0.0</td>\n",
       "      <td>35.0</td>\n",
       "      <td>0.0500</td>\n",
       "    </tr>\n",
       "    <tr>\n",
       "      <th>4</th>\n",
       "      <td>0.5040</td>\n",
       "      <td>0.390</td>\n",
       "      <td>225227.0</td>\n",
       "      <td>0.309</td>\n",
       "      <td>0.0</td>\n",
       "      <td>0.000000</td>\n",
       "      <td>1.0</td>\n",
       "      <td>0.0863</td>\n",
       "      <td>-14.120</td>\n",
       "      <td>1.0</td>\n",
       "      <td>57.0</td>\n",
       "      <td>0.0265</td>\n",
       "    </tr>\n",
       "  </tbody>\n",
       "</table>\n",
       "</div>"
      ],
      "text/plain": [
       "   acousticness  danceability  duration_ms  energy  explicit  \\\n",
       "0        0.7130         0.582     140867.0   0.575       0.0   \n",
       "1        0.2040         0.686     163680.0   0.714       0.0   \n",
       "2        0.0348         0.725     222813.0   0.853       0.0   \n",
       "3        0.4850         0.510     155960.0   0.565       0.0   \n",
       "4        0.5040         0.390     225227.0   0.309       0.0   \n",
       "\n",
       "   instrumentalness  key  liveness  loudness  mode  popularity  speechiness  \n",
       "0          0.000004  7.0    0.1510   -11.890   1.0        51.0       0.0529  \n",
       "1          0.000000  0.0    0.0592    -4.809   1.0        63.0       0.0287  \n",
       "2          0.127000  2.0    0.1960    -7.842   1.0        68.0       0.0353  \n",
       "3          0.000000  1.0    0.0476    -8.105   0.0        35.0       0.0500  \n",
       "4          0.000000  1.0    0.0863   -14.120   1.0        57.0       0.0265  "
      ]
     },
     "execution_count": 102,
     "metadata": {},
     "output_type": "execute_result"
    }
   ],
   "source": [
    "dftree.head()"
   ]
  },
  {
   "cell_type": "code",
   "execution_count": 107,
   "metadata": {},
   "outputs": [],
   "source": [
    "dflabels = df.loc[:,'time_signature']"
   ]
  },
  {
   "cell_type": "code",
   "execution_count": 108,
   "metadata": {},
   "outputs": [
    {
     "name": "stderr",
     "output_type": "stream",
     "text": [
      "/anaconda3/lib/python3.6/site-packages/ipykernel_launcher.py:1: SettingWithCopyWarning: \n",
      "A value is trying to be set on a copy of a slice from a DataFrame\n",
      "\n",
      "See the caveats in the documentation: http://pandas.pydata.org/pandas-docs/stable/indexing.html#indexing-view-versus-copy\n",
      "  \"\"\"Entry point for launching an IPython kernel.\n"
     ]
    }
   ],
   "source": [
    "dflabels[dflabels < 4] = 0"
   ]
  },
  {
   "cell_type": "code",
   "execution_count": 111,
   "metadata": {},
   "outputs": [
    {
     "name": "stderr",
     "output_type": "stream",
     "text": [
      "/anaconda3/lib/python3.6/site-packages/ipykernel_launcher.py:1: SettingWithCopyWarning: \n",
      "A value is trying to be set on a copy of a slice from a DataFrame\n",
      "\n",
      "See the caveats in the documentation: http://pandas.pydata.org/pandas-docs/stable/indexing.html#indexing-view-versus-copy\n",
      "  \"\"\"Entry point for launching an IPython kernel.\n"
     ]
    }
   ],
   "source": [
    "dflabels[dflabels > 4] = 1"
   ]
  },
  {
   "cell_type": "code",
   "execution_count": 115,
   "metadata": {},
   "outputs": [],
   "source": [
    "dflabels = dflabels.fillna(1.)"
   ]
  },
  {
   "cell_type": "code",
   "execution_count": 124,
   "metadata": {},
   "outputs": [
    {
     "data": {
      "text/plain": [
       "(171,)"
      ]
     },
     "execution_count": 124,
     "metadata": {},
     "output_type": "execute_result"
    }
   ],
   "source": [
    "dflabels[dflabels == 0].shape"
   ]
  },
  {
   "cell_type": "code",
   "execution_count": 123,
   "metadata": {},
   "outputs": [
    {
     "data": {
      "text/plain": [
       "(4929,)"
      ]
     },
     "execution_count": 123,
     "metadata": {},
     "output_type": "execute_result"
    }
   ],
   "source": [
    "dflabels[dflabels == 1].shape"
   ]
  },
  {
   "cell_type": "code",
   "execution_count": null,
   "metadata": {},
   "outputs": [],
   "source": [
    "dftree = dftree.fillna(0.)"
   ]
  },
  {
   "cell_type": "code",
   "execution_count": 125,
   "metadata": {},
   "outputs": [],
   "source": [
    "from sklearn.tree import DecisionTreeClassifier, export_graphviz"
   ]
  },
  {
   "cell_type": "code",
   "execution_count": 164,
   "metadata": {},
   "outputs": [
    {
     "data": {
      "text/plain": [
       "DecisionTreeClassifier(class_weight=None, criterion='gini', max_depth=2,\n",
       "            max_features=None, max_leaf_nodes=None,\n",
       "            min_impurity_decrease=0.0, min_impurity_split=None,\n",
       "            min_samples_leaf=1, min_samples_split=2,\n",
       "            min_weight_fraction_leaf=0.0, presort=False, random_state=None,\n",
       "            splitter='best')"
      ]
     },
     "execution_count": 164,
     "metadata": {},
     "output_type": "execute_result"
    }
   ],
   "source": [
    "tree = DecisionTreeClassifier(max_depth=2)\n",
    "tree.fit(dftree, dflabels) "
   ]
  },
  {
   "cell_type": "code",
   "execution_count": 157,
   "metadata": {},
   "outputs": [],
   "source": [
    "p = tree.predict(dftree)"
   ]
  },
  {
   "cell_type": "code",
   "execution_count": 158,
   "metadata": {},
   "outputs": [
    {
     "data": {
      "text/plain": [
       "0.9664705882352941"
      ]
     },
     "execution_count": 158,
     "metadata": {},
     "output_type": "execute_result"
    }
   ],
   "source": [
    "(p == dflabels).sum().astype(float) / len(p)"
   ]
  },
  {
   "cell_type": "code",
   "execution_count": null,
   "metadata": {},
   "outputs": [],
   "source": []
  },
  {
   "cell_type": "code",
   "execution_count": 165,
   "metadata": {},
   "outputs": [
    {
     "name": "stdout",
     "output_type": "stream",
     "text": [
      "digraph Tree {\n",
      "node [shape=box] ;\n",
      "0 [label=\"acousticness <= 0.566\\ngini = 0.065\\nsamples = 5100\\nvalue = [171, 4929]\"] ;\n",
      "1 [label=\"danceability <= 0.526\\ngini = 0.041\\nsamples = 4492\\nvalue = [95, 4397]\"] ;\n",
      "0 -> 1 [labeldistance=2.5, labelangle=45, headlabel=\"True\"] ;\n",
      "2 [label=\"gini = 0.085\\nsamples = 1194\\nvalue = [53, 1141]\"] ;\n",
      "1 -> 2 ;\n",
      "3 [label=\"gini = 0.025\\nsamples = 3298\\nvalue = [42, 3256]\"] ;\n",
      "1 -> 3 ;\n",
      "4 [label=\"energy <= 0.377\\ngini = 0.219\\nsamples = 608\\nvalue = [76, 532]\"] ;\n",
      "0 -> 4 [labeldistance=2.5, labelangle=-45, headlabel=\"False\"] ;\n",
      "5 [label=\"gini = 0.326\\nsamples = 258\\nvalue = [53, 205]\"] ;\n",
      "4 -> 5 ;\n",
      "6 [label=\"gini = 0.123\\nsamples = 350\\nvalue = [23, 327]\"] ;\n",
      "4 -> 6 ;\n",
      "}\n"
     ]
    }
   ],
   "source": [
    "# tree visualization\n",
    "tree_dot = export_graphviz(tree, out_file=None, feature_names = dftree.columns)\n",
    "print(tree_dot)"
   ]
  },
  {
   "cell_type": "code",
   "execution_count": 141,
   "metadata": {},
   "outputs": [],
   "source": [
    "import graphviz"
   ]
  },
  {
   "cell_type": "code",
   "execution_count": 166,
   "metadata": {},
   "outputs": [
    {
     "data": {
      "image/svg+xml": [
       "<?xml version=\"1.0\" encoding=\"UTF-8\" standalone=\"no\"?>\n",
       "<!DOCTYPE svg PUBLIC \"-//W3C//DTD SVG 1.1//EN\"\n",
       " \"http://www.w3.org/Graphics/SVG/1.1/DTD/svg11.dtd\">\n",
       "<!-- Generated by graphviz version 2.40.1 (20161225.0304)\n",
       " -->\n",
       "<!-- Title: Tree Pages: 1 -->\n",
       "<svg width=\"532pt\" height=\"289pt\"\n",
       " viewBox=\"0.00 0.00 532.04 288.80\" xmlns=\"http://www.w3.org/2000/svg\" xmlns:xlink=\"http://www.w3.org/1999/xlink\">\n",
       "<g id=\"graph0\" class=\"graph\" transform=\"scale(1 1) rotate(0) translate(4 284.8)\">\n",
       "<title>Tree</title>\n",
       "<polygon fill=\"#ffffff\" stroke=\"transparent\" points=\"-4,4 -4,-284.8 528.0356,-284.8 528.0356,4 -4,4\"/>\n",
       "<!-- 0 -->\n",
       "<g id=\"node1\" class=\"node\">\n",
       "<title>0</title>\n",
       "<polygon fill=\"none\" stroke=\"#000000\" points=\"337.0306,-280.9003 196.505,-280.9003 196.505,-205.4997 337.0306,-205.4997 337.0306,-280.9003\"/>\n",
       "<text text-anchor=\"middle\" x=\"266.7678\" y=\"-264.2\" font-family=\"Times,serif\" font-size=\"14.00\" fill=\"#000000\">acousticness &lt;= 0.566</text>\n",
       "<text text-anchor=\"middle\" x=\"266.7678\" y=\"-247.4\" font-family=\"Times,serif\" font-size=\"14.00\" fill=\"#000000\">gini = 0.065</text>\n",
       "<text text-anchor=\"middle\" x=\"266.7678\" y=\"-230.6\" font-family=\"Times,serif\" font-size=\"14.00\" fill=\"#000000\">samples = 5100</text>\n",
       "<text text-anchor=\"middle\" x=\"266.7678\" y=\"-213.8\" font-family=\"Times,serif\" font-size=\"14.00\" fill=\"#000000\">value = [171, 4929]</text>\n",
       "</g>\n",
       "<!-- 1 -->\n",
       "<g id=\"node2\" class=\"node\">\n",
       "<title>1</title>\n",
       "<polygon fill=\"none\" stroke=\"#000000\" points=\"263.9781,-169.7003 125.5575,-169.7003 125.5575,-94.2997 263.9781,-94.2997 263.9781,-169.7003\"/>\n",
       "<text text-anchor=\"middle\" x=\"194.7678\" y=\"-153\" font-family=\"Times,serif\" font-size=\"14.00\" fill=\"#000000\">danceability &lt;= 0.526</text>\n",
       "<text text-anchor=\"middle\" x=\"194.7678\" y=\"-136.2\" font-family=\"Times,serif\" font-size=\"14.00\" fill=\"#000000\">gini = 0.041</text>\n",
       "<text text-anchor=\"middle\" x=\"194.7678\" y=\"-119.4\" font-family=\"Times,serif\" font-size=\"14.00\" fill=\"#000000\">samples = 4492</text>\n",
       "<text text-anchor=\"middle\" x=\"194.7678\" y=\"-102.6\" font-family=\"Times,serif\" font-size=\"14.00\" fill=\"#000000\">value = [95, 4397]</text>\n",
       "</g>\n",
       "<!-- 0&#45;&gt;1 -->\n",
       "<g id=\"edge1\" class=\"edge\">\n",
       "<title>0&#45;&gt;1</title>\n",
       "<path fill=\"none\" stroke=\"#000000\" d=\"M242.3919,-205.5528C236.7033,-196.7671 230.581,-187.3115 224.6831,-178.2025\"/>\n",
       "<polygon fill=\"#000000\" stroke=\"#000000\" points=\"227.4916,-176.1003 219.1186,-169.6085 221.6157,-179.9048 227.4916,-176.1003\"/>\n",
       "<text text-anchor=\"middle\" x=\"213.8877\" y=\"-189.8551\" font-family=\"Times,serif\" font-size=\"14.00\" fill=\"#000000\">True</text>\n",
       "</g>\n",
       "<!-- 4 -->\n",
       "<g id=\"node5\" class=\"node\">\n",
       "<title>4</title>\n",
       "<polygon fill=\"none\" stroke=\"#000000\" points=\"394.8044,-169.7003 282.7312,-169.7003 282.7312,-94.2997 394.8044,-94.2997 394.8044,-169.7003\"/>\n",
       "<text text-anchor=\"middle\" x=\"338.7678\" y=\"-153\" font-family=\"Times,serif\" font-size=\"14.00\" fill=\"#000000\">energy &lt;= 0.377</text>\n",
       "<text text-anchor=\"middle\" x=\"338.7678\" y=\"-136.2\" font-family=\"Times,serif\" font-size=\"14.00\" fill=\"#000000\">gini = 0.219</text>\n",
       "<text text-anchor=\"middle\" x=\"338.7678\" y=\"-119.4\" font-family=\"Times,serif\" font-size=\"14.00\" fill=\"#000000\">samples = 608</text>\n",
       "<text text-anchor=\"middle\" x=\"338.7678\" y=\"-102.6\" font-family=\"Times,serif\" font-size=\"14.00\" fill=\"#000000\">value = [76, 532]</text>\n",
       "</g>\n",
       "<!-- 0&#45;&gt;4 -->\n",
       "<g id=\"edge4\" class=\"edge\">\n",
       "<title>0&#45;&gt;4</title>\n",
       "<path fill=\"none\" stroke=\"#000000\" d=\"M291.1437,-205.5528C296.8323,-196.7671 302.9546,-187.3115 308.8525,-178.2025\"/>\n",
       "<polygon fill=\"#000000\" stroke=\"#000000\" points=\"311.9199,-179.9048 314.417,-169.6085 306.044,-176.1003 311.9199,-179.9048\"/>\n",
       "<text text-anchor=\"middle\" x=\"319.6479\" y=\"-189.8551\" font-family=\"Times,serif\" font-size=\"14.00\" fill=\"#000000\">False</text>\n",
       "</g>\n",
       "<!-- 2 -->\n",
       "<g id=\"node3\" class=\"node\">\n",
       "<title>2</title>\n",
       "<polygon fill=\"none\" stroke=\"#000000\" points=\"119.3043,-58.6014 .2313,-58.6014 .2313,.2014 119.3043,.2014 119.3043,-58.6014\"/>\n",
       "<text text-anchor=\"middle\" x=\"59.7678\" y=\"-41.8\" font-family=\"Times,serif\" font-size=\"14.00\" fill=\"#000000\">gini = 0.085</text>\n",
       "<text text-anchor=\"middle\" x=\"59.7678\" y=\"-25\" font-family=\"Times,serif\" font-size=\"14.00\" fill=\"#000000\">samples = 1194</text>\n",
       "<text text-anchor=\"middle\" x=\"59.7678\" y=\"-8.2\" font-family=\"Times,serif\" font-size=\"14.00\" fill=\"#000000\">value = [53, 1141]</text>\n",
       "</g>\n",
       "<!-- 1&#45;&gt;2 -->\n",
       "<g id=\"edge2\" class=\"edge\">\n",
       "<title>1&#45;&gt;2</title>\n",
       "<path fill=\"none\" stroke=\"#000000\" d=\"M145.2654,-94.3048C132.549,-84.6215 118.9132,-74.2382 106.3502,-64.6717\"/>\n",
       "<polygon fill=\"#000000\" stroke=\"#000000\" points=\"108.3463,-61.7924 98.2699,-58.5186 104.1054,-67.3616 108.3463,-61.7924\"/>\n",
       "</g>\n",
       "<!-- 3 -->\n",
       "<g id=\"node4\" class=\"node\">\n",
       "<title>3</title>\n",
       "<polygon fill=\"none\" stroke=\"#000000\" points=\"257.3043,-58.6014 138.2313,-58.6014 138.2313,.2014 257.3043,.2014 257.3043,-58.6014\"/>\n",
       "<text text-anchor=\"middle\" x=\"197.7678\" y=\"-41.8\" font-family=\"Times,serif\" font-size=\"14.00\" fill=\"#000000\">gini = 0.025</text>\n",
       "<text text-anchor=\"middle\" x=\"197.7678\" y=\"-25\" font-family=\"Times,serif\" font-size=\"14.00\" fill=\"#000000\">samples = 3298</text>\n",
       "<text text-anchor=\"middle\" x=\"197.7678\" y=\"-8.2\" font-family=\"Times,serif\" font-size=\"14.00\" fill=\"#000000\">value = [42, 3256]</text>\n",
       "</g>\n",
       "<!-- 1&#45;&gt;3 -->\n",
       "<g id=\"edge3\" class=\"edge\">\n",
       "<title>1&#45;&gt;3</title>\n",
       "<path fill=\"none\" stroke=\"#000000\" d=\"M195.8679,-94.3048C196.1128,-85.9126 196.373,-76.9946 196.6198,-68.5382\"/>\n",
       "<polygon fill=\"#000000\" stroke=\"#000000\" points=\"200.1189,-68.6165 196.9122,-58.5186 193.1219,-68.4122 200.1189,-68.6165\"/>\n",
       "</g>\n",
       "<!-- 5 -->\n",
       "<g id=\"node6\" class=\"node\">\n",
       "<title>5</title>\n",
       "<polygon fill=\"none\" stroke=\"#000000\" points=\"392.8044,-58.6014 280.7312,-58.6014 280.7312,.2014 392.8044,.2014 392.8044,-58.6014\"/>\n",
       "<text text-anchor=\"middle\" x=\"336.7678\" y=\"-41.8\" font-family=\"Times,serif\" font-size=\"14.00\" fill=\"#000000\">gini = 0.326</text>\n",
       "<text text-anchor=\"middle\" x=\"336.7678\" y=\"-25\" font-family=\"Times,serif\" font-size=\"14.00\" fill=\"#000000\">samples = 258</text>\n",
       "<text text-anchor=\"middle\" x=\"336.7678\" y=\"-8.2\" font-family=\"Times,serif\" font-size=\"14.00\" fill=\"#000000\">value = [53, 205]</text>\n",
       "</g>\n",
       "<!-- 4&#45;&gt;5 -->\n",
       "<g id=\"edge5\" class=\"edge\">\n",
       "<title>4&#45;&gt;5</title>\n",
       "<path fill=\"none\" stroke=\"#000000\" d=\"M338.0344,-94.3048C337.8712,-85.9126 337.6977,-76.9946 337.5331,-68.5382\"/>\n",
       "<polygon fill=\"#000000\" stroke=\"#000000\" points=\"341.0322,-68.4486 337.3382,-58.5186 334.0335,-68.5849 341.0322,-68.4486\"/>\n",
       "</g>\n",
       "<!-- 6 -->\n",
       "<g id=\"node7\" class=\"node\">\n",
       "<title>6</title>\n",
       "<polygon fill=\"none\" stroke=\"#000000\" points=\"523.8044,-58.6014 411.7312,-58.6014 411.7312,.2014 523.8044,.2014 523.8044,-58.6014\"/>\n",
       "<text text-anchor=\"middle\" x=\"467.7678\" y=\"-41.8\" font-family=\"Times,serif\" font-size=\"14.00\" fill=\"#000000\">gini = 0.123</text>\n",
       "<text text-anchor=\"middle\" x=\"467.7678\" y=\"-25\" font-family=\"Times,serif\" font-size=\"14.00\" fill=\"#000000\">samples = 350</text>\n",
       "<text text-anchor=\"middle\" x=\"467.7678\" y=\"-8.2\" font-family=\"Times,serif\" font-size=\"14.00\" fill=\"#000000\">value = [23, 327]</text>\n",
       "</g>\n",
       "<!-- 4&#45;&gt;6 -->\n",
       "<g id=\"edge6\" class=\"edge\">\n",
       "<title>4&#45;&gt;6</title>\n",
       "<path fill=\"none\" stroke=\"#000000\" d=\"M386.0701,-94.3048C398.1056,-84.7137 411.0029,-74.4359 422.9124,-64.9452\"/>\n",
       "<polygon fill=\"#000000\" stroke=\"#000000\" points=\"425.3377,-67.488 430.9769,-58.5186 420.9751,-62.0136 425.3377,-67.488\"/>\n",
       "</g>\n",
       "</g>\n",
       "</svg>\n"
      ],
      "text/plain": [
       "<graphviz.files.Source at 0x12088eef0>"
      ]
     },
     "execution_count": 166,
     "metadata": {},
     "output_type": "execute_result"
    }
   ],
   "source": [
    "graphviz.Source(tree_dot)"
   ]
  },
  {
   "cell_type": "code",
   "execution_count": null,
   "metadata": {},
   "outputs": [],
   "source": []
  }
 ],
 "metadata": {
  "kernelspec": {
   "display_name": "Python 3",
   "language": "python",
   "name": "python3"
  },
  "language_info": {
   "codemirror_mode": {
    "name": "ipython",
    "version": 3
   },
   "file_extension": ".py",
   "mimetype": "text/x-python",
   "name": "python",
   "nbconvert_exporter": "python",
   "pygments_lexer": "ipython3",
   "version": "3.6.4"
  }
 },
 "nbformat": 4,
 "nbformat_minor": 2
}
