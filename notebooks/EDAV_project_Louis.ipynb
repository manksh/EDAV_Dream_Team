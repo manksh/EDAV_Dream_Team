{
 "cells": [
  {
   "cell_type": "markdown",
   "metadata": {},
   "source": [
    "### Data preprocessing and .csv file creation"
   ]
  },
  {
   "cell_type": "code",
   "execution_count": 1,
   "metadata": {
    "collapsed": true
   },
   "outputs": [],
   "source": [
    "import pandas as pd\n",
    "import numpy as np\n",
    "from sklearn.feature_extraction.text import CountVectorizer\n",
    "import matplotlib.pyplot as plt\n",
    "from nltk.corpus import stopwords"
   ]
  },
  {
   "cell_type": "markdown",
   "metadata": {},
   "source": [
    "# 100 most used n_grams per decade "
   ]
  },
  {
   "cell_type": "markdown",
   "metadata": {},
   "source": [
    "Generating count of unigrams, bigrams and trigrams per decade. We are using NLTK english stopwords here."
   ]
  },
  {
   "cell_type": "code",
   "execution_count": 2,
   "metadata": {},
   "outputs": [],
   "source": [
    "stopWords = stopwords.words('english')\n",
    "stopWords = set(stopWords + ['dont', 'im', 'youre', 'ill'])\n",
    "df = pd.read_csv('../data/billboard-spotify.csv')\n",
    "L = []\n",
    "L_tf = []\n",
    "for i in np.arange(6):\n",
    "    df_decade = df[df['year'].isin(list(np.arange(1960+10*i,1970+10*i)))]\n",
    "    uni = CountVectorizer(token_pattern = '(?u)\\\\b\\\\w+\\\\b',stop_words=stopWords)\n",
    "    bi = CountVectorizer(ngram_range=(2,2), token_pattern = '(?u)\\\\b\\\\w+\\\\b',stop_words=stopWords)\n",
    "    tri = CountVectorizer(ngram_range=(3,3), token_pattern = '(?u)\\\\b\\\\w+\\\\b',stop_words=stopWords)\n",
    "    uni_tf = uni.fit_transform(df_decade[df_decade.lyrics.isnull() == False]['lyrics'])\n",
    "    bi_tf = bi.fit_transform(df_decade[df_decade.lyrics.isnull() == False]['lyrics'])\n",
    "    tri_tf = tri.fit_transform(df_decade[df_decade.lyrics.isnull() == False]['lyrics'])\n",
    "    uni_voc = uni.vocabulary_\n",
    "    bi_voc = bi.vocabulary_\n",
    "    tri_voc = tri.vocabulary_\n",
    "    L_tf.append([uni_tf, bi_tf, tri_tf])\n",
    "    L.append([uni_voc, bi_voc, tri_voc])"
   ]
  },
  {
   "cell_type": "code",
   "execution_count": 3,
   "metadata": {},
   "outputs": [],
   "source": [
    "gram = ['unigram', 'bigram', 'trigram']\n",
    "L_df = []\n",
    "for k in np.arange(3):\n",
    "    for i in np.arange(6):\n",
    "        liste = L_tf[i][k].sum(axis=0).ravel().tolist()[0]\n",
    "        liste_index = np.arange(len(liste))\n",
    "        list1, list2 = (list(t) for t in zip(*sorted(zip(liste, liste_index), reverse=True)))\n",
    "        list2 = list2[:100]\n",
    "        for j in list2:\n",
    "            for key, value in L[i][k].items():\n",
    "                if value==j:\n",
    "                    L_df.append([gram[k], 1960+10*i, key, list1[list2.index(j)]])"
   ]
  },
  {
   "cell_type": "code",
   "execution_count": 4,
   "metadata": {
    "collapsed": true
   },
   "outputs": [],
   "source": [
    "df_topwords = pd.DataFrame(L_df, columns=[\"gram\", \"decade\", \"word\", \"count\"])"
   ]
  },
  {
   "cell_type": "code",
   "execution_count": 5,
   "metadata": {
    "collapsed": true
   },
   "outputs": [],
   "source": [
    "df_topwords.to_csv(\"../data/Louis/n_gram.csv\", index=False)"
   ]
  },
  {
   "cell_type": "markdown",
   "metadata": {},
   "source": [
    "# Cover"
   ]
  },
  {
   "cell_type": "markdown",
   "metadata": {},
   "source": [
    "Detect covers: We consider as a cover a song having the same title as a previous song, but with a different artist (in order to get rid of songs that are in the billboard for two consecutive years)."
   ]
  },
  {
   "cell_type": "code",
   "execution_count": 6,
   "metadata": {
    "collapsed": true
   },
   "outputs": [],
   "source": [
    "cover_song = df[df.duplicated(['song','artist']) == False].reset_index().groupby('song')['year'].apply(list).reset_index()"
   ]
  },
  {
   "cell_type": "code",
   "execution_count": 7,
   "metadata": {
    "collapsed": true
   },
   "outputs": [],
   "source": [
    "list_year = []\n",
    "for i in np.arange(len(cover_song)):\n",
    "    year = cover_song.iloc[i]['year']\n",
    "    if len(year) >= 2:\n",
    "        list_year.append(year[1:])\n",
    "flat_list = [item for sublist in list_year for item in sublist]"
   ]
  },
  {
   "cell_type": "code",
   "execution_count": 8,
   "metadata": {},
   "outputs": [
    {
     "data": {
      "image/png": "[encoded data removed]",
      "text/plain": [
       "<matplotlib.figure.Figure at 0x1203b3ac8>"
      ]
     },
     "metadata": {},
     "output_type": "display_data"
    }
   ],
   "source": [
    "plt.figure(figsize=(16,10))\n",
    "plt.hist(flat_list, bins=51)\n",
    "plt.show()"
   ]
  },
  {
   "cell_type": "code",
   "execution_count": 9,
   "metadata": {
    "collapsed": true
   },
   "outputs": [],
   "source": [
    "df_cover = pd.DataFrame(flat_list, columns=[\"year\"])\n",
    "df_cover.to_csv(\"../data/Louis/cover_year.csv\", index=False)"
   ]
  },
  {
   "cell_type": "markdown",
   "metadata": {},
   "source": [
    "# Evolution of word usage over time"
   ]
  },
  {
   "cell_type": "code",
   "execution_count": 10,
   "metadata": {},
   "outputs": [],
   "source": [
    "df_tidy = pd.read_csv('../data/tidy-words.csv.zip', encoding='latin1', compression='zip')\n",
    "mask = df_tidy['word'].apply(lambda x: x not in list(stopWords))\n",
    "word_count = df_tidy.loc[mask,:].groupby(['year','word'])['count'].sum().reset_index()\n",
    "word_count.to_csv('../data/Louis/word_count_per_year.csv', index=False)"
   ]
  }
 ],
 "metadata": {
  "kernelspec": {
   "display_name": "Python 3",
   "language": "python",
   "name": "python3"
  },
  "language_info": {
   "codemirror_mode": {
    "name": "ipython",
    "version": 3
   },
   "file_extension": ".py",
   "mimetype": "text/x-python",
   "name": "python",
   "nbconvert_exporter": "python",
   "pygments_lexer": "ipython3",
   "version": "3.6.1"
  }
 },
 "nbformat": 4,
 "nbformat_minor": 2
}
